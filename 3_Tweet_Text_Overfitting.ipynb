{
  "nbformat": 4,
  "nbformat_minor": 0,
  "metadata": {
    "accelerator": "GPU",
    "colab": {
      "name": "Copy of NLP Course - Week 3 Exercise Answer.ipynb",
      "provenance": []
    },
    "kernelspec": {
      "display_name": "Python 3",
      "language": "python",
      "name": "python3"
    },
    "language_info": {
      "codemirror_mode": {
        "name": "ipython",
        "version": 3
      },
      "file_extension": ".py",
      "mimetype": "text/x-python",
      "name": "python",
      "nbconvert_exporter": "python",
      "pygments_lexer": "ipython3",
      "version": "3.7.6"
    }
  },
  "cells": [
    {
      "cell_type": "code",
      "metadata": {
        "colab_type": "code",
        "id": "zX4Kg8DUTKWO",
        "colab": {}
      },
      "source": [
        "#@title Licensed under the Apache License, Version 2.0 (the \"License\");\n",
        "# you may not use this file except in compliance with the License.\n",
        "# You may obtain a copy of the License at\n",
        "#\n",
        "# https://www.apache.org/licenses/LICENSE-2.0\n",
        "#\n",
        "# Unless required by applicable law or agreed to in writing, software\n",
        "# distributed under the License is distributed on an \"AS IS\" BASIS,\n",
        "# WITHOUT WARRANTIES OR CONDITIONS OF ANY KIND, either express or implied.\n",
        "# See the License for the specific language governing permissions and\n",
        "# limitations under the License."
      ],
      "execution_count": null,
      "outputs": []
    },
    {
      "cell_type": "markdown",
      "metadata": {
        "id": "OYPwiRv8DZmW",
        "colab_type": "text"
      },
      "source": [
        "<a href=\"https://colab.research.google.com/github/lmoroney/dlaicourse/blob/master/TensorFlow%20In%20Practice/Course%203%20-%20NLP/NLP%20Course%20-%20Week%203%20Exercise%20Answer.ipynb\" target=\"_parent\"><img src=\"https://colab.research.google.com/assets/colab-badge.svg\" alt=\"Open In Colab\"/></a>"
      ]
    },
    {
      "cell_type": "code",
      "metadata": {
        "colab_type": "code",
        "id": "hmA6EzkQJ5jt",
        "colab": {}
      },
      "source": [
        "import json\n",
        "import tensorflow as tf\n",
        "import csv\n",
        "import random\n",
        "import numpy as np\n",
        "\n",
        "from tensorflow.keras.preprocessing.text import Tokenizer\n",
        "from tensorflow.keras.preprocessing.sequence import pad_sequences\n",
        "from tensorflow.keras.utils import to_categorical\n",
        "from tensorflow.keras import regularizers\n",
        "\n",
        "\n",
        "embedding_dim = 100\n",
        "max_length = 16\n",
        "trunc_type='post'\n",
        "padding_type='post'\n",
        "oov_tok = \"<OOV>\"\n",
        "training_size=160000\n",
        "test_portion=.1\n",
        "\n",
        "corpus = []\n"
      ],
      "execution_count": null,
      "outputs": []
    },
    {
      "cell_type": "code",
      "metadata": {
        "colab_type": "code",
        "id": "bM0l_dORKqE0",
        "colab": {
          "base_uri": "https://localhost:8080/",
          "height": 204
        },
        "outputId": "07f03dfa-471a-42db-8db5-c91a188d2987"
      },
      "source": [
        "# Note that I cleaned the Stanford dataset to remove LATIN1 encoding to make it easier for Python CSV reader\n",
        "# You can do that yourself with:\n",
        "# iconv -f LATIN1 -t UTF8 training.1600000.processed.noemoticon.csv -o training_cleaned.csv\n",
        "# I then hosted it on my site to make it easier to use in this notebook\n",
        "\n",
        "!wget --no-check-certificate \\\n",
        "    https://storage.googleapis.com/laurencemoroney-blog.appspot.com/training_cleaned.csv \\\n",
        "    -O /tmp/training_cleaned.csv\n",
        "\n",
        "num_sentences = 0\n",
        "\n",
        "with open(\"/tmp/training_cleaned.csv\") as csvfile:\n",
        "    reader = csv.reader(csvfile, delimiter=',')\n",
        "    for row in reader:\n",
        "        list_item=[]\n",
        "        list_item.append(row[5])\n",
        "        this_label=row[0]\n",
        "        if this_label=='0':\n",
        "            list_item.append(0)\n",
        "        else:\n",
        "            list_item.append(1)\n",
        "        num_sentences = num_sentences + 1\n",
        "        corpus.append(list_item)\n"
      ],
      "execution_count": null,
      "outputs": [
        {
          "output_type": "stream",
          "text": [
            "--2020-09-08 19:26:04--  https://storage.googleapis.com/laurencemoroney-blog.appspot.com/training_cleaned.csv\n",
            "Resolving storage.googleapis.com (storage.googleapis.com)... 74.125.20.128, 74.125.28.128, 74.125.142.128, ...\n",
            "Connecting to storage.googleapis.com (storage.googleapis.com)|74.125.20.128|:443... connected.\n",
            "HTTP request sent, awaiting response... 200 OK\n",
            "Length: 238942690 (228M) [application/octet-stream]\n",
            "Saving to: ‘/tmp/training_cleaned.csv’\n",
            "\n",
            "/tmp/training_clean 100%[===================>] 227.87M   157MB/s    in 1.5s    \n",
            "\n",
            "2020-09-08 19:26:05 (157 MB/s) - ‘/tmp/training_cleaned.csv’ saved [238942690/238942690]\n",
            "\n"
          ],
          "name": "stdout"
        }
      ]
    },
    {
      "cell_type": "code",
      "metadata": {
        "colab_type": "code",
        "id": "3kxblBUjEUX-",
        "colab": {
          "base_uri": "https://localhost:8080/",
          "height": 88
        },
        "outputId": "f9c67614-5364-4c81-9fca-4da1f38627fd"
      },
      "source": [
        "print(num_sentences)\n",
        "print(len(corpus))\n",
        "print(corpus[1])\n",
        "\n",
        "# Expected Output:\n",
        "# 1600000\n",
        "# 1600000\n",
        "# [\"is upset that he can't update his Facebook by texting it... and might cry as a result  School today also. Blah!\", 0]"
      ],
      "execution_count": null,
      "outputs": [
        {
          "output_type": "stream",
          "text": [
            "1600000\n",
            "1600000\n",
            "[\"is upset that he can't update his Facebook by texting it... and might cry as a result  School today also. Blah!\", 0]\n"
          ],
          "name": "stdout"
        }
      ]
    },
    {
      "cell_type": "code",
      "metadata": {
        "colab_type": "code",
        "id": "ohOGz24lsNAD",
        "colab": {}
      },
      "source": [
        "sentences=[]\n",
        "labels=[]\n",
        "random.shuffle(corpus)\n",
        "for x in range(training_size):\n",
        "    sentences.append(corpus[x][0])\n",
        "    labels.append(corpus[x][1])\n",
        "\n",
        "\n",
        "tokenizer = Tokenizer()\n",
        "tokenizer.fit_on_texts(sentences)\n",
        "\n",
        "word_index = tokenizer.word_index\n",
        "vocab_size=len(word_index)\n",
        "\n",
        "sequences = tokenizer.texts_to_sequences(sentences)\n",
        "padded = pad_sequences(sequences, maxlen=max_length, padding=padding_type, truncating=trunc_type)\n",
        "\n",
        "split = int(test_portion * training_size)\n",
        "\n",
        "test_sequences = padded[0:split]\n",
        "training_sequences = padded[split:training_size]\n",
        "test_labels = labels[0:split]\n",
        "training_labels = labels[split:training_size]"
      ],
      "execution_count": null,
      "outputs": []
    },
    {
      "cell_type": "code",
      "metadata": {
        "colab_type": "code",
        "id": "gIrtRem1En3N",
        "colab": {
          "base_uri": "https://localhost:8080/",
          "height": 51
        },
        "outputId": "236f3450-ea2f-4170-cc16-aec26a274415"
      },
      "source": [
        "print(vocab_size)\n",
        "print(word_index['i'])\n",
        "# Expected Output\n",
        "# 138858\n",
        "# 1"
      ],
      "execution_count": null,
      "outputs": [
        {
          "output_type": "stream",
          "text": [
            "138826\n",
            "1\n"
          ],
          "name": "stdout"
        }
      ]
    },
    {
      "cell_type": "code",
      "metadata": {
        "colab_type": "code",
        "id": "C1zdgJkusRh0",
        "colab": {
          "base_uri": "https://localhost:8080/",
          "height": 204
        },
        "outputId": "afd69b22-e535-44e1-c607-6cf3951de618"
      },
      "source": [
        "# Note this is the 100 dimension version of GloVe from Stanford\n",
        "# I unzipped and hosted it on my site to make this notebook easier\n",
        "!wget --no-check-certificate \\\n",
        "    https://storage.googleapis.com/laurencemoroney-blog.appspot.com/glove.6B.100d.txt \\\n",
        "    -O /tmp/glove.6B.100d.txt\n",
        "embeddings_index = {};\n",
        "with open('/tmp/glove.6B.100d.txt') as f:\n",
        "    for line in f:\n",
        "        values = line.split();\n",
        "        word = values[0];\n",
        "        coefs = np.asarray(values[1:], dtype='float32');\n",
        "        embeddings_index[word] = coefs;\n",
        "\n",
        "embeddings_matrix = np.zeros((vocab_size+1, embedding_dim));\n",
        "for word, i in word_index.items():\n",
        "    embedding_vector = embeddings_index.get(word);\n",
        "    if embedding_vector is not None:\n",
        "        embeddings_matrix[i] = embedding_vector;"
      ],
      "execution_count": null,
      "outputs": [
        {
          "output_type": "stream",
          "text": [
            "--2020-09-08 19:26:17--  https://storage.googleapis.com/laurencemoroney-blog.appspot.com/glove.6B.100d.txt\n",
            "Resolving storage.googleapis.com (storage.googleapis.com)... 74.125.142.128, 74.125.195.128, 74.125.20.128, ...\n",
            "Connecting to storage.googleapis.com (storage.googleapis.com)|74.125.142.128|:443... connected.\n",
            "HTTP request sent, awaiting response... 200 OK\n",
            "Length: 347116733 (331M) [text/plain]\n",
            "Saving to: ‘/tmp/glove.6B.100d.txt’\n",
            "\n",
            "/tmp/glove.6B.100d. 100%[===================>] 331.04M   277MB/s    in 1.2s    \n",
            "\n",
            "2020-09-08 19:26:19 (277 MB/s) - ‘/tmp/glove.6B.100d.txt’ saved [347116733/347116733]\n",
            "\n"
          ],
          "name": "stdout"
        }
      ]
    },
    {
      "cell_type": "code",
      "metadata": {
        "colab_type": "code",
        "id": "71NLk_lpFLNt",
        "colab": {
          "base_uri": "https://localhost:8080/",
          "height": 34
        },
        "outputId": "05feb0cd-9a68-4a52-bd67-24873594dec9"
      },
      "source": [
        "print(len(embeddings_matrix))\n",
        "# Expected Output\n",
        "# 138859"
      ],
      "execution_count": null,
      "outputs": [
        {
          "output_type": "stream",
          "text": [
            "138827\n"
          ],
          "name": "stdout"
        }
      ]
    },
    {
      "cell_type": "code",
      "metadata": {
        "colab_type": "code",
        "id": "iKKvbuEBOGFz",
        "colab": {
          "base_uri": "https://localhost:8080/",
          "height": 1000
        },
        "outputId": "d20dad73-598f-41ea-c982-163f77a5edf7"
      },
      "source": [
        "model = tf.keras.Sequential([\n",
        "    tf.keras.layers.Embedding(vocab_size+1, embedding_dim, input_length=max_length, weights=[embeddings_matrix], trainable=False),\n",
        "    tf.keras.layers.Dropout(0.2),\n",
        "    tf.keras.layers.Conv1D(64, 5, activation='relu'),\n",
        "    tf.keras.layers.MaxPooling1D(pool_size=4),\n",
        "    tf.keras.layers.LSTM(64),\n",
        "    tf.keras.layers.Dense(1, activation='sigmoid')\n",
        "])\n",
        "model.compile(loss='binary_crossentropy',optimizer='adam',metrics=['accuracy'])\n",
        "model.summary()\n",
        "\n",
        "num_epochs = 50\n",
        "\n",
        "training_padded = np.array(training_sequences)\n",
        "training_labels = np.array(training_labels)\n",
        "testing_padded = np.array(test_sequences)\n",
        "testing_labels = np.array(test_labels)\n",
        "\n",
        "history = model.fit(training_padded, training_labels, epochs=num_epochs, validation_data=(testing_padded, testing_labels), verbose=2)\n",
        "\n",
        "print(\"Training Complete\")"
      ],
      "execution_count": null,
      "outputs": [
        {
          "output_type": "stream",
          "text": [
            "Model: \"sequential\"\n",
            "_________________________________________________________________\n",
            "Layer (type)                 Output Shape              Param #   \n",
            "=================================================================\n",
            "embedding (Embedding)        (None, 16, 100)           13882700  \n",
            "_________________________________________________________________\n",
            "dropout (Dropout)            (None, 16, 100)           0         \n",
            "_________________________________________________________________\n",
            "conv1d (Conv1D)              (None, 12, 64)            32064     \n",
            "_________________________________________________________________\n",
            "max_pooling1d (MaxPooling1D) (None, 3, 64)             0         \n",
            "_________________________________________________________________\n",
            "lstm (LSTM)                  (None, 64)                33024     \n",
            "_________________________________________________________________\n",
            "dense (Dense)                (None, 1)                 65        \n",
            "=================================================================\n",
            "Total params: 13,947,853\n",
            "Trainable params: 65,153\n",
            "Non-trainable params: 13,882,700\n",
            "_________________________________________________________________\n",
            "Epoch 1/50\n",
            "4500/4500 - 15s - loss: 0.5677 - accuracy: 0.6991 - val_loss: 0.5294 - val_accuracy: 0.7328\n",
            "Epoch 2/50\n",
            "4500/4500 - 15s - loss: 0.5276 - accuracy: 0.7318 - val_loss: 0.5152 - val_accuracy: 0.7441\n",
            "Epoch 3/50\n",
            "4500/4500 - 15s - loss: 0.5109 - accuracy: 0.7439 - val_loss: 0.5148 - val_accuracy: 0.7473\n",
            "Epoch 4/50\n",
            "4500/4500 - 15s - loss: 0.4998 - accuracy: 0.7503 - val_loss: 0.5237 - val_accuracy: 0.7346\n",
            "Epoch 5/50\n",
            "4500/4500 - 15s - loss: 0.4913 - accuracy: 0.7577 - val_loss: 0.5153 - val_accuracy: 0.7425\n",
            "Epoch 6/50\n",
            "4500/4500 - 15s - loss: 0.4847 - accuracy: 0.7621 - val_loss: 0.5152 - val_accuracy: 0.7498\n",
            "Epoch 7/50\n",
            "4500/4500 - 15s - loss: 0.4786 - accuracy: 0.7641 - val_loss: 0.5075 - val_accuracy: 0.7503\n",
            "Epoch 8/50\n",
            "4500/4500 - 15s - loss: 0.4727 - accuracy: 0.7687 - val_loss: 0.5040 - val_accuracy: 0.7517\n",
            "Epoch 9/50\n",
            "4500/4500 - 15s - loss: 0.4690 - accuracy: 0.7710 - val_loss: 0.5094 - val_accuracy: 0.7511\n",
            "Epoch 10/50\n",
            "4500/4500 - 15s - loss: 0.4646 - accuracy: 0.7742 - val_loss: 0.5100 - val_accuracy: 0.7509\n",
            "Epoch 11/50\n",
            "4500/4500 - 15s - loss: 0.4619 - accuracy: 0.7760 - val_loss: 0.5185 - val_accuracy: 0.7492\n",
            "Epoch 12/50\n",
            "4500/4500 - 15s - loss: 0.4593 - accuracy: 0.7771 - val_loss: 0.5125 - val_accuracy: 0.7516\n",
            "Epoch 13/50\n",
            "4500/4500 - 15s - loss: 0.4558 - accuracy: 0.7800 - val_loss: 0.5191 - val_accuracy: 0.7511\n",
            "Epoch 14/50\n",
            "4500/4500 - 15s - loss: 0.4546 - accuracy: 0.7795 - val_loss: 0.5160 - val_accuracy: 0.7488\n",
            "Epoch 15/50\n",
            "4500/4500 - 15s - loss: 0.4521 - accuracy: 0.7824 - val_loss: 0.5163 - val_accuracy: 0.7472\n",
            "Epoch 16/50\n",
            "4500/4500 - 16s - loss: 0.4505 - accuracy: 0.7826 - val_loss: 0.5197 - val_accuracy: 0.7466\n",
            "Epoch 17/50\n",
            "4500/4500 - 15s - loss: 0.4486 - accuracy: 0.7842 - val_loss: 0.5271 - val_accuracy: 0.7476\n",
            "Epoch 18/50\n",
            "4500/4500 - 15s - loss: 0.4482 - accuracy: 0.7837 - val_loss: 0.5146 - val_accuracy: 0.7514\n",
            "Epoch 19/50\n",
            "4500/4500 - 15s - loss: 0.4454 - accuracy: 0.7862 - val_loss: 0.5139 - val_accuracy: 0.7498\n",
            "Epoch 20/50\n",
            "4500/4500 - 15s - loss: 0.4450 - accuracy: 0.7866 - val_loss: 0.5198 - val_accuracy: 0.7483\n",
            "Epoch 21/50\n",
            "4500/4500 - 15s - loss: 0.4431 - accuracy: 0.7867 - val_loss: 0.5158 - val_accuracy: 0.7464\n",
            "Epoch 22/50\n",
            "4500/4500 - 15s - loss: 0.4419 - accuracy: 0.7882 - val_loss: 0.5260 - val_accuracy: 0.7476\n",
            "Epoch 23/50\n",
            "4500/4500 - 15s - loss: 0.4396 - accuracy: 0.7896 - val_loss: 0.5184 - val_accuracy: 0.7492\n",
            "Epoch 24/50\n",
            "4500/4500 - 15s - loss: 0.4406 - accuracy: 0.7881 - val_loss: 0.5277 - val_accuracy: 0.7438\n",
            "Epoch 25/50\n",
            "4500/4500 - 15s - loss: 0.4373 - accuracy: 0.7904 - val_loss: 0.5230 - val_accuracy: 0.7481\n",
            "Epoch 26/50\n",
            "4500/4500 - 15s - loss: 0.4373 - accuracy: 0.7904 - val_loss: 0.5279 - val_accuracy: 0.7435\n",
            "Epoch 27/50\n",
            "4500/4500 - 15s - loss: 0.4370 - accuracy: 0.7905 - val_loss: 0.5302 - val_accuracy: 0.7469\n",
            "Epoch 28/50\n",
            "4500/4500 - 15s - loss: 0.4373 - accuracy: 0.7909 - val_loss: 0.5338 - val_accuracy: 0.7450\n",
            "Epoch 29/50\n",
            "4500/4500 - 15s - loss: 0.4350 - accuracy: 0.7921 - val_loss: 0.5322 - val_accuracy: 0.7448\n",
            "Epoch 30/50\n",
            "4500/4500 - 15s - loss: 0.4355 - accuracy: 0.7922 - val_loss: 0.5273 - val_accuracy: 0.7467\n",
            "Epoch 31/50\n",
            "4500/4500 - 15s - loss: 0.4349 - accuracy: 0.7931 - val_loss: 0.5274 - val_accuracy: 0.7434\n",
            "Epoch 32/50\n",
            "4500/4500 - 15s - loss: 0.4339 - accuracy: 0.7930 - val_loss: 0.5252 - val_accuracy: 0.7492\n",
            "Epoch 33/50\n",
            "4500/4500 - 15s - loss: 0.4347 - accuracy: 0.7919 - val_loss: 0.5316 - val_accuracy: 0.7443\n",
            "Epoch 34/50\n",
            "4500/4500 - 15s - loss: 0.4321 - accuracy: 0.7934 - val_loss: 0.5340 - val_accuracy: 0.7419\n",
            "Epoch 35/50\n",
            "4500/4500 - 15s - loss: 0.4327 - accuracy: 0.7938 - val_loss: 0.5362 - val_accuracy: 0.7407\n",
            "Epoch 36/50\n",
            "4500/4500 - 15s - loss: 0.4320 - accuracy: 0.7931 - val_loss: 0.5327 - val_accuracy: 0.7412\n",
            "Epoch 37/50\n",
            "4500/4500 - 16s - loss: 0.4323 - accuracy: 0.7934 - val_loss: 0.5326 - val_accuracy: 0.7444\n",
            "Epoch 38/50\n",
            "4500/4500 - 15s - loss: 0.4314 - accuracy: 0.7950 - val_loss: 0.5296 - val_accuracy: 0.7422\n",
            "Epoch 39/50\n",
            "4500/4500 - 15s - loss: 0.4326 - accuracy: 0.7932 - val_loss: 0.5345 - val_accuracy: 0.7462\n",
            "Epoch 40/50\n",
            "4500/4500 - 15s - loss: 0.4302 - accuracy: 0.7947 - val_loss: 0.5326 - val_accuracy: 0.7436\n",
            "Epoch 41/50\n",
            "4500/4500 - 15s - loss: 0.4295 - accuracy: 0.7953 - val_loss: 0.5320 - val_accuracy: 0.7442\n",
            "Epoch 42/50\n",
            "4500/4500 - 15s - loss: 0.4302 - accuracy: 0.7944 - val_loss: 0.5334 - val_accuracy: 0.7462\n",
            "Epoch 43/50\n",
            "4500/4500 - 15s - loss: 0.4291 - accuracy: 0.7953 - val_loss: 0.5383 - val_accuracy: 0.7424\n",
            "Epoch 44/50\n",
            "4500/4500 - 15s - loss: 0.4276 - accuracy: 0.7967 - val_loss: 0.5355 - val_accuracy: 0.7450\n",
            "Epoch 45/50\n",
            "4500/4500 - 15s - loss: 0.4295 - accuracy: 0.7951 - val_loss: 0.5314 - val_accuracy: 0.7467\n",
            "Epoch 46/50\n",
            "4500/4500 - 15s - loss: 0.4280 - accuracy: 0.7968 - val_loss: 0.5396 - val_accuracy: 0.7407\n",
            "Epoch 47/50\n",
            "4500/4500 - 15s - loss: 0.4278 - accuracy: 0.7953 - val_loss: 0.5389 - val_accuracy: 0.7441\n",
            "Epoch 48/50\n",
            "4500/4500 - 15s - loss: 0.4289 - accuracy: 0.7973 - val_loss: 0.5333 - val_accuracy: 0.7424\n",
            "Epoch 49/50\n",
            "4500/4500 - 15s - loss: 0.4282 - accuracy: 0.7969 - val_loss: 0.5327 - val_accuracy: 0.7439\n",
            "Epoch 50/50\n",
            "4500/4500 - 15s - loss: 0.4279 - accuracy: 0.7968 - val_loss: 0.5316 - val_accuracy: 0.7430\n",
            "Training Complete\n"
          ],
          "name": "stdout"
        }
      ]
    },
    {
      "cell_type": "code",
      "metadata": {
        "colab_type": "code",
        "id": "qxju4ItJKO8F",
        "colab": {
          "base_uri": "https://localhost:8080/",
          "height": 607
        },
        "outputId": "5d608fd3-8066-40a4-f0a4-d053adb4d7a0"
      },
      "source": [
        "import matplotlib.image  as mpimg\n",
        "import matplotlib.pyplot as plt\n",
        "\n",
        "#-----------------------------------------------------------\n",
        "# Retrieve a list of list results on training and test data\n",
        "# sets for each training epoch\n",
        "#-----------------------------------------------------------\n",
        "acc=history.history['accuracy']\n",
        "val_acc=history.history['val_accuracy']\n",
        "loss=history.history['loss']\n",
        "val_loss=history.history['val_loss']\n",
        "\n",
        "epochs=range(len(acc)) # Get number of epochs\n",
        "\n",
        "#------------------------------------------------\n",
        "# Plot training and validation accuracy per epoch\n",
        "#------------------------------------------------\n",
        "plt.plot(epochs, acc, 'r')\n",
        "plt.plot(epochs, val_acc, 'b')\n",
        "plt.title('Training and validation accuracy')\n",
        "plt.xlabel(\"Epochs\")\n",
        "plt.ylabel(\"Accuracy\")\n",
        "plt.legend([\"Accuracy\", \"Validation Accuracy\"])\n",
        "\n",
        "plt.figure()\n",
        "\n",
        "#------------------------------------------------\n",
        "# Plot training and validation loss per epoch\n",
        "#------------------------------------------------\n",
        "plt.plot(epochs, loss, 'r')\n",
        "plt.plot(epochs, val_loss, 'b')\n",
        "plt.title('Training and validation loss')\n",
        "plt.xlabel(\"Epochs\")\n",
        "plt.ylabel(\"Loss\")\n",
        "plt.legend([\"Loss\", \"Validation Loss\"])\n",
        "\n",
        "plt.figure()\n",
        "\n",
        "\n",
        "# Expected Output\n",
        "# A chart where the validation loss does not increase sharply!"
      ],
      "execution_count": null,
      "outputs": [
        {
          "output_type": "execute_result",
          "data": {
            "text/plain": [
              "<Figure size 432x288 with 0 Axes>"
            ]
          },
          "metadata": {
            "tags": []
          },
          "execution_count": 10
        },
        {
          "output_type": "display_data",
          "data": {
            "image/png": "[encoded data removed]",
            "text/plain": [
              "<Figure size 432x288 with 1 Axes>"
            ]
          },
          "metadata": {
            "tags": [],
            "needs_background": "light"
          }
        },
        {
          "output_type": "display_data",
          "data": {
            "image/png": "[encoded data removed]",
            "text/plain": [
              "<Figure size 432x288 with 1 Axes>"
            ]
          },
          "metadata": {
            "tags": [],
            "needs_background": "light"
          }
        },
        {
          "output_type": "display_data",
          "data": {
            "text/plain": [
              "<Figure size 432x288 with 0 Axes>"
            ]
          },
          "metadata": {
            "tags": []
          }
        }
      ]
    }
  ]
}